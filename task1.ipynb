{
 "cells": [
  {
   "cell_type": "markdown",
   "id": "c4b5bb90-fb6d-46c9-8aa2-80d7b4b4a9d8",
   "metadata": {},
   "source": [
    "\n",
    "*TASK 1*"
   ]
  },
  {
   "cell_type": "markdown",
   "id": "f8d8fb60-5e70-463e-ab7b-93a9d52b6fa6",
   "metadata": {},
   "source": [
    "**TASK 1**"
   ]
  },
  {
   "cell_type": "markdown",
   "id": "49aea62a-3adf-4a7f-8295-8473fa373988",
   "metadata": {},
   "source": [
    "# TITLE"
   ]
  },
  {
   "cell_type": "markdown",
   "id": "f56bb370-10a5-4e71-adfd-0875c8874ad1",
   "metadata": {},
   "source": [
    "## SUBSECTION TITLE"
   ]
  },
  {
   "cell_type": "markdown",
   "id": "a7b066d9-d37d-4df4-9f8d-fbbd47c6bc7a",
   "metadata": {},
   "source": [
    "### SUBSUBSECTION TITLE"
   ]
  },
  {
   "cell_type": "markdown",
   "id": "bd7e5824-0adf-4ab5-b5f3-9db635dcdb78",
   "metadata": {},
   "source": [
    "<pre>\n",
    "\"my world\"\n",
    "<pre>"
   ]
  },
  {
   "cell_type": "markdown",
   "id": "be4bbb06-223f-423f-8d86-14e4d55bc28f",
   "metadata": {},
   "source": [
    "- points"
   ]
  },
  {
   "cell_type": "markdown",
   "id": "58f1f0d8-5b05-4782-a50e-55f9d5767549",
   "metadata": {},
   "source": [
    "1. first"
   ]
  },
  {
   "cell_type": "markdown",
   "id": "413fd58f-ddcd-40e7-b47d-c9c4802dc3be",
   "metadata": {},
   "source": [
    "2. second"
   ]
  },
  {
   "cell_type": "markdown",
   "id": "2aba12d1-9e5e-4b73-adc5-0c6cb4c51611",
   "metadata": {},
   "source": [
    "|sr.no | Name | mobile.no|\n",
    "|----- |------|----------|\n",
    "|1     |ashu  |0235488225|"
   ]
  },
  {
   "cell_type": "markdown",
   "id": "17e76c70-ea22-4ade-93f6-a58a392edfff",
   "metadata": {},
   "source": [
    "![flower](https://www.pexels.com/photo/a-woman-holding-a-bouquet-of-pink-roses-27356363/)"
   ]
  },
  {
   "cell_type": "markdown",
   "id": "9b583e18-6210-4175-97e6-842480f3afdd",
   "metadata": {},
   "source": [
    ">world"
   ]
  },
  {
   "cell_type": "markdown",
   "id": "2db65c6e-bae0-4ac4-9ee9-360ac006ca32",
   "metadata": {},
   "source": [
    "`here is some code`"
   ]
  },
  {
   "cell_type": "markdown",
   "id": "93639874-75b1-4791-9c65-cfaac091d4c1",
   "metadata": {},
   "source": [
    "http://www.coding.com"
   ]
  },
  {
   "cell_type": "markdown",
   "id": "cd14ab62-bdd3-4689-8d30-06920d2d5403",
   "metadata": {},
   "source": [
    "<p style=\"color:orange;\">\n",
    "    ORANGE SUN.\n",
    "</p>\n"
   ]
  },
  {
   "cell_type": "markdown",
   "id": "875013d2-2c14-4bc6-b2b0-2f3e73719eb1",
   "metadata": {},
   "source": [
    "<img src=\"https://upload.wikimedia.org/wikipedia/commons/thumb/2/2c/Rotating_earth_%28large%29.gif/200px-Rotating_earth_%28large%29.gif\" />\n"
   ]
  },
  {
   "cell_type": "markdown",
   "id": "0cbd173c-1655-43d4-a398-911ead3e0c4a",
   "metadata": {},
   "source": [
    "\n",
    "____\n",
    "****\n",
    "____\n",
    "----"
   ]
  },
  {
   "cell_type": "markdown",
   "id": "11ffc00f-fd7c-48b0-b5c8-6daee4f4eb9e",
   "metadata": {},
   "source": [
    "~SHE IS SO GOOD~"
   ]
  },
  {
   "cell_type": "code",
   "execution_count": null,
   "id": "fb3f8651-fa83-4698-a0c5-ae7b116b7725",
   "metadata": {},
   "outputs": [],
   "source": []
  }
 ],
 "metadata": {
  "kernelspec": {
   "display_name": "Python 3 (ipykernel)",
   "language": "python",
   "name": "python3"
  },
  "language_info": {
   "codemirror_mode": {
    "name": "ipython",
    "version": 3
   },
   "file_extension": ".py",
   "mimetype": "text/x-python",
   "name": "python",
   "nbconvert_exporter": "python",
   "pygments_lexer": "ipython3",
   "version": "3.12.4"
  }
 },
 "nbformat": 4,
 "nbformat_minor": 5
}
